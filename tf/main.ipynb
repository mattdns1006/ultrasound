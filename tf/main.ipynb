{
 "cells": [
  {
   "cell_type": "code",
   "execution_count": 1,
   "metadata": {
    "collapsed": false
   },
   "outputs": [
    {
     "name": "stderr",
     "output_type": "stream",
     "text": [
      "/usr/local/lib/python2.7/dist-packages/matplotlib/font_manager.py:273: UserWarning: Matplotlib is building the font cache using fc-list. This may take a moment.\n",
      "  warnings.warn('Matplotlib is building the font cache using fc-list. This may take a moment.')\n"
     ]
    }
   ],
   "source": [
    "import tensorflow as tf\n",
    "import cv2 \n",
    "import numpy as np\n",
    "import numpy.random as rng\n",
    "import matplotlib.pyplot as plt\n",
    "import matplotlib.cm as cm\n",
    "%matplotlib inline\n",
    "import glob\n",
    "import os\n",
    "os.chdir(\"../\")"
   ]
  },
  {
   "cell_type": "code",
   "execution_count": 141,
   "metadata": {
    "collapsed": false
   },
   "outputs": [],
   "source": [
    "class dataGenerator():\n",
    "    def __init__(self,cvSplit=0.8,batchSize=5,inputDim=(128,128),outputDim=(32,32)):\n",
    "        rng.seed(1006)\n",
    "        self.trainPaths, self.testPaths = [glob.glob(s+\"/*[0-9].tif\") for s in [\"train\",\"test\"]]\n",
    "        self.batchSize = batchSize\n",
    "        self.inputDim = inputDim\n",
    "        self.outputDim = outputDim\n",
    "        print(\"%d train paths and %d test paths\" % (len(self.trainPaths),len(self.testPaths)))\n",
    "        \n",
    "        # Split train into CV and non CV (cross validation)\n",
    "        rng.shuffle(self.trainPaths)\n",
    "        cvSplitPoint = int(cvSplit*len(self.trainPaths))\n",
    "        self.trainPathsCV, self.testPathsCV = self.trainPaths[:cvSplitPoint], self.trainPaths[cvSplitPoint:]\n",
    "        assert len(set(self.trainPathsCV).intersection(set(self.testPathsCV))) == 0 \n",
    "        \n",
    "        print(\"Train set split into %d train CV paths and %d test CV paths\" % (len(self.trainPathsCV),len(self.testPathsCV)))     \n",
    "\n",
    "    def showImg(self,img):\n",
    "        plt.imshow(img,cmap=cm.gray)\n",
    "        plt.show()\n",
    "\n",
    "    def loadImg(self,path,train,augment=0,method=cv2.INTER_CUBIC):\n",
    "        img = cv2.imread(path,0)\n",
    "        maskPath = path.replace(\".tif\",\"_mask.tif\")\n",
    "        if os.path.exists(path = maskPath):\n",
    "            mask = cv2.imread(maskPath,0)\n",
    "        \n",
    "        if augment == 1 and train == 1:\n",
    "            rows,cols = img.shape\n",
    "            \n",
    "            M = cv2.getRotationMatrix2D((cols/2,rows/2),np.random.uniform(-5,5),1)\n",
    "            tX, tY = np.random.randint(0,10,2)\n",
    "            M[0,2] = tX\n",
    "            M[1,2] = tY\n",
    "            img,mask = [im[5:rows-5, 5:cols-5] for im in [img,mask]]\n",
    "            img,mask = [cv2.warpAffine(im,M,(cols,rows),borderMode = 1) for im in [img,mask]]\n",
    "            \n",
    "            img = cv2.resize(img,self.inputDim, interpolation = method)\n",
    "            mask = cv2.resize(mask,self.outputDim, interpolation = method)\n",
    "            return img,mask\n",
    "        elif augment == 0 and train == 1:\n",
    "            img = cv2.resize(img,self.inputDim, interpolation = method)\n",
    "            mask = cv2.resize(mask,self.outputDim, interpolation = method)\n",
    "            return img,mask\n",
    "        elif train == 0:\n",
    "            img = cv2.resize(img,self.inputDim, interpolation = method)\n",
    "            return img, _\n",
    "        \n",
    "    def gen(self,train):\n",
    "        if train==1:\n",
    "            paths = self.trainPathsCV\n",
    "            nObs = len(paths)\n",
    "            augment = 1\n",
    "            print(\"Training paths length =  %d\" % nObs)\n",
    "        elif train == 0:\n",
    "            paths = self.testPathsCV\n",
    "            nObs = len(paths)\n",
    "            augment = 1\n",
    "            print(\"Testing paths length =  %d\" % nObs)\n",
    "        self.idx = 0\n",
    "        while True:\n",
    "            batchX = np.empty((self.batchSize,self.inputDim[0],self.inputDim[1],1))\n",
    "            batchY = np.empty((self.batchSize,self.outputDim[0],self.outputDim[1],1))\n",
    "            idx = 0\n",
    "            for i in range(self.idx,min(self.batchSize+self.idx,nObs)):\n",
    "                x,y = self.loadImg(paths[i],train=train,augment=augment)\n",
    "                y=y/255.0\n",
    "                x.resize(self.inputDim[0],self.inputDim[1],1), y.resize(self.outputDim[0],self.outputDim[1],1)\n",
    "                batchX[idx],batchY[idx] = x, y\n",
    "                idx += 1\n",
    "            self.idx += self.batchSize\n",
    "            if self.idx >= nObs:\n",
    "                rng.shuffle(paths)\n",
    "                self.idx = 0\n",
    "            yield batchX,batchY\n",
    "\n",
    "        "
   ]
  },
  {
   "cell_type": "code",
   "execution_count": 143,
   "metadata": {
    "collapsed": true
   },
   "outputs": [],
   "source": [
    "def weights(shape):\n",
    "    initial = tf.truncated_normal(shape,stddev=0.1)\n",
    "    return tf.Variable(initial)\n",
    "\n",
    "def bias(shape):\n",
    "    initial = tf.constant(0.1,shape=shape)\n",
    "    return tf.Variable(initial)\n",
    "\n",
    "def conv2d(x,W):\n",
    "    return tf.nn.conv2d(x,W,strides=[1,1,1,1],padding=\"SAME\")\n",
    "\n",
    "def mp2(x):\n",
    "    return tf.nn.max_pool(x,ksize = [1,2,2,1],strides=[1,2,2,1],padding=\"SAME\")"
   ]
  },
  {
   "cell_type": "code",
   "execution_count": 144,
   "metadata": {
    "collapsed": false
   },
   "outputs": [
    {
     "name": "stdout",
     "output_type": "stream",
     "text": [
      "(?, 128, 128, 1)\n",
      "(3, 3, 1, 16)\n",
      "(3, 3, 16, 24)\n",
      "(3, 3, 24, 32)\n",
      "(3, 3, 32, 40)\n",
      "(3, 3, 40, 1)\n"
     ]
    }
   ],
   "source": [
    "with tf.variable_scope(\"deCnn\"):\n",
    "    inputDim, outputDim = (128,128), (8,8)\n",
    "    x = tf.placeholder(tf.float32,shape=[None,inputDim[0],inputDim[0],1])\n",
    "    y_ = tf.placeholder(tf.float32,shape=[None,outputDim[0],outputDim[0],1])\n",
    "\n",
    "    convolutionLayers = []\n",
    "    nConvolutions = 5\n",
    "    nFeatsOut = 16\n",
    "    nFeatsInc = 8\n",
    "    for i in xrange(nConvolutions):\n",
    "        if i ==0:\n",
    "            nFeatsIn = 1\n",
    "        elif i < nConvolutions - 1:\n",
    "            nFeatsOut += nFeatsInc\n",
    "        elif i == nConvolutions-1:\n",
    "            nFeatsOut = 1\n",
    "\n",
    "        W = weights([3,3,nFeatsIn,nFeatsOut])\n",
    "        b = bias([nFeatsOut])\n",
    "        convolutionLayers.append([W,b]) \n",
    "        nFeatsIn = nFeatsOut\n",
    "        \n",
    "    h1 = tf.nn.relu(conv2d(x,convolutionLayers[0][0]) + convolutionLayers[0][1])\n",
    "    h1p = mp2(h1)\n",
    "    h2 = tf.nn.relu(conv2d(h1p,convolutionLayers[1][0]) + convolutionLayers[1][1])\n",
    "    h2p = mp2(h2)\n",
    "    h3 = tf.nn.relu(conv2d(h2p,convolutionLayers[2][0]) + convolutionLayers[2][1])\n",
    "    h3p = mp2(h3)\n",
    "    h4 = tf.nn.relu(conv2d(h3p,convolutionLayers[3][0]) + convolutionLayers[3][1])\n",
    "    h4p = mp2(h4)\n",
    "    yPred = tf.nn.sigmoid(conv2d(h4p,convolutionLayers[4][0]) + convolutionLayers[4][1])\n",
    "\n",
    "print(x.get_shape())\n",
    "for i in xrange(len(convolutionLayers)):\n",
    "    print(convolutionLayers[i][0].get_shape())"
   ]
  },
  {
   "cell_type": "code",
   "execution_count": 151,
   "metadata": {
    "collapsed": false
   },
   "outputs": [
    {
     "name": "stdout",
     "output_type": "stream",
     "text": [
      "5635 train paths and 5508 test paths\n",
      "Train set split into 4508 train CV paths and 1127 test CV paths\n",
      "Training paths length =  4508\n"
     ]
    }
   ],
   "source": [
    "if __name__ == \"__main__\":\n",
    "\n",
    "    batchSize = 5\n",
    "    iterations = 100\n",
    "    epochs = 10\n",
    "    testSubset = 100\n",
    "    lr = 0.01\n",
    "    \n",
    "    learning_rate = tf.placeholder(tf.float32,shape=[])\n",
    "    mse = tf.reduce_mean(tf.reduce_sum(tf.square(yPred - y_),(1,2,3))/batchSize)\n",
    "    opt = tf.train.GradientDescentOptimizer(learning_rate = learning_rate)\n",
    "    opt_operation = opt.minimize(mse)\n",
    "    \n",
    "  \n",
    "    dataGen = dataGenerator(cvSplit = 0.8, batchSize=batchSize,inputDim=inputDim,outputDim=outputDim)\n",
    "\n",
    "    trainGenerator = dataGen.gen(train=1)\n",
    "    \n",
    "    trainLosses = np.empty([iterations])\n",
    "    \n",
    "    with tf.Session() as sess:\n",
    "        with tf.variable_scope(\"deCnn\"):\n",
    "            tf.initialize_all_variables().run()\n",
    "            \n",
    "            for i in xrange(iterations):\n",
    "                batchX, batchY = trainGenerator.next()\n",
    "                _,yPred_,loss = sess.run([opt_operation,yPred,mse],feed_dict={x:batchX,y_:batchY,learning_rate:0.001})\n",
    "                #_,loss = sess.run([opt_operation,mse],feed_dict={x:batchX,y:yBatch})\n",
    "                trainLosses[i] = loss\n",
    "                \n",
    "    sess.close()\n",
    "            "
   ]
  },
  {
   "cell_type": "code",
   "execution_count": 152,
   "metadata": {
    "collapsed": false
   },
   "outputs": [
    {
     "data": {
      "text/plain": [
       "[<matplotlib.lines.Line2D at 0x7fa260c78050>]"
      ]
     },
     "execution_count": 152,
     "metadata": {},
     "output_type": "execute_result"
    },
    {
     "data": {
      "image/png": "[encoded data removed]",
      "text/plain": [
       "<matplotlib.figure.Figure at 0x7fa2295ac490>"
      ]
     },
     "metadata": {},
     "output_type": "display_data"
    }
   ],
   "source": [
    "plt.plot(trainLosses)"
   ]
  }
 ],
 "metadata": {
  "kernelspec": {
   "display_name": "Python 2",
   "language": "python",
   "name": "python2"
  },
  "language_info": {
   "codemirror_mode": {
    "name": "ipython",
    "version": 2
   },
   "file_extension": ".py",
   "mimetype": "text/x-python",
   "name": "python",
   "nbconvert_exporter": "python",
   "pygments_lexer": "ipython2",
   "version": "2.7.6"
  }
 },
 "nbformat": 4,
 "nbformat_minor": 0
}
