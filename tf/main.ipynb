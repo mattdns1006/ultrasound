{
 "cells": [
  {
   "cell_type": "code",
   "execution_count": 1,
   "metadata": {
    "collapsed": false
   },
   "outputs": [
    {
     "name": "stderr",
     "output_type": "stream",
     "text": [
      "/usr/local/lib/python2.7/dist-packages/matplotlib/font_manager.py:273: UserWarning: Matplotlib is building the font cache using fc-list. This may take a moment.\n",
      "  warnings.warn('Matplotlib is building the font cache using fc-list. This may take a moment.')\n"
     ]
    }
   ],
   "source": [
    "import tensorflow as tf\n",
    "import cv2 \n",
    "import numpy as np\n",
    "import numpy.random as rng\n",
    "import matplotlib.pyplot as plt\n",
    "import matplotlib.cm as cm\n",
    "%matplotlib inline\n",
    "from tensorflow.contrib.layers import layers\n",
    "import glob\n",
    "import os\n",
    "os.chdir(\"../\")"
   ]
  },
  {
   "cell_type": "code",
   "execution_count": 2,
   "metadata": {
    "collapsed": false
   },
   "outputs": [],
   "source": [
    "def showImg(self,img):\n",
    "    plt.imshow(img,cmap=cm.gray)\n",
    "    plt.show()\n",
    "\n",
    "class dataGenerator():\n",
    "    def __init__(self,cvSplit=0.8,batchSize=5,inputDim=(128,128),outputDim=(32,32)):\n",
    "        rng.seed(1006)\n",
    "        self.trainPaths, self.testPaths = [glob.glob(s+\"/*[0-9].tif\") for s in [\"train\",\"test\"]]\n",
    "        self.batchSize = batchSize\n",
    "        self.inputDim = inputDim\n",
    "        self.outputDim = outputDim\n",
    "        print(\"%d train paths and %d test paths\" % (len(self.trainPaths),len(self.testPaths)))\n",
    "        \n",
    "        # Split train into CV and non CV (cross validation)\n",
    "        rng.shuffle(self.trainPaths)\n",
    "        cvSplitPoint = int(cvSplit*len(self.trainPaths))\n",
    "        self.trainPathsCV, self.testPathsCV = self.trainPaths[:cvSplitPoint], self.trainPaths[cvSplitPoint:]\n",
    "        assert len(set(self.trainPathsCV).intersection(set(self.testPathsCV))) == 0 \n",
    "        \n",
    "        #self.trainPathsCV = self.trainPathsCV[:500]\n",
    "        #self.testPathsCV = self.testPathsCV[:100]\n",
    "        \n",
    "        print(\"Train set split into %d train CV paths and %d test CV paths\" % (len(self.trainPathsCV),len(self.testPathsCV)))     \n",
    "\n",
    "\n",
    "    def loadImg(self,path,CV,augment=0,method=cv2.INTER_CUBIC):\n",
    "        img = cv2.imread(path,0)\n",
    "        maskPath = path.replace(\".tif\",\"_mask.tif\")\n",
    "        if os.path.exists(path = maskPath):\n",
    "            mask = cv2.imread(maskPath,0)\n",
    "        \n",
    "        if augment == 1 and CV == 1:\n",
    "            rows,cols = img.shape\n",
    "            \n",
    "            M = cv2.getRotationMatrix2D((cols/2,rows/2),np.random.uniform(-5,5),1)\n",
    "            tX, tY = np.random.randint(0,10,2)\n",
    "            M[0,2] = tX\n",
    "            M[1,2] = tY\n",
    "            img,mask = [im[5:rows-5, 5:cols-5] for im in [img,mask]]\n",
    "            img,mask = [cv2.warpAffine(im,M,(cols,rows),borderMode = 1) for im in [img,mask]]\n",
    "            \n",
    "            img = cv2.resize(img,self.inputDim, interpolation = method)\n",
    "            mask = cv2.resize(mask,self.outputDim, interpolation = method)\n",
    "            return img,mask\n",
    "        elif augment == 0 and CV == 1:\n",
    "            img = cv2.resize(img,self.inputDim, interpolation = method)\n",
    "            mask = cv2.resize(mask,self.outputDim, interpolation = method)\n",
    "            return img,mask\n",
    "        elif train == 0:\n",
    "            img = cv2.resize(img,self.inputDim, interpolation = method)\n",
    "            return img, _\n",
    "        \n",
    "    def gen(self,train):\n",
    "        if train==1:\n",
    "            paths = self.trainPathsCV\n",
    "            rng.shuffle(paths)\n",
    "            nObs = len(paths)\n",
    "            augment = 1\n",
    "            print(\"Augmenting\")\n",
    "            print(\"Training paths length =  %d\" % nObs)\n",
    "        elif train == 0:\n",
    "            paths = self.testPathsCV\n",
    "            rng.shuffle(paths)\n",
    "            nObs = len(paths)\n",
    "            augment = 0\n",
    "            print(\"Not augmenting\")\n",
    "            print(\"Testing paths length =  %d\" % nObs)\n",
    "        self.idx = 0\n",
    "        finished = 0\n",
    "        while True:\n",
    "            batchX = np.empty((self.batchSize,self.inputDim[0],self.inputDim[1],1))\n",
    "            batchY = np.empty((self.batchSize,self.outputDim[0],self.outputDim[1],1))\n",
    "            idx = 0\n",
    "            for i in range(self.idx,min(self.batchSize+self.idx,nObs)):\n",
    "                x,y = self.loadImg(paths[i],CV=1,augment=augment)\n",
    "                x=x/255.0\n",
    "                y=y/255.0\n",
    "                x.resize(self.inputDim[0],self.inputDim[1],1), y.resize(self.outputDim[0],self.outputDim[1],1)\n",
    "                batchX[idx],batchY[idx] = x, y\n",
    "                idx += 1\n",
    "            self.idx += self.batchSize\n",
    "            if self.idx >= nObs:\n",
    "                self.idx = 0\n",
    "                finished = 1\n",
    "            yield batchX,batchY, finished \n",
    "\n",
    "        "
   ]
  },
  {
   "cell_type": "code",
   "execution_count": 3,
   "metadata": {
    "collapsed": true
   },
   "outputs": [],
   "source": [
    "def weights(shape):\n",
    "    initial = tf.truncated_normal(shape,stddev=0.1)\n",
    "    return tf.Variable(initial)\n",
    "\n",
    "def bias(shape):\n",
    "    initial = tf.constant(0.1,shape=shape)\n",
    "    return tf.Variable(initial)\n",
    "\n",
    "def conv2d(x,W):\n",
    "    return tf.nn.conv2d(x,W,strides=[1,1,1,1],padding=\"SAME\")\n",
    "\n",
    "def mp2(x):\n",
    "    return tf.nn.max_pool(x,ksize = [1,2,2,1],strides=[1,2,2,1],padding=\"SAME\")"
   ]
  },
  {
   "cell_type": "code",
   "execution_count": null,
   "metadata": {
    "collapsed": false
   },
   "outputs": [
    {
     "name": "stdout",
     "output_type": "stream",
     "text": [
      "(?, 128, 128, 1)\n",
      "(3, 3, 1, 16)\n",
      "(3, 3, 16, 24)\n",
      "(3, 3, 24, 32)\n",
      "(3, 3, 32, 40)\n",
      "(3, 3, 40, 1)\n"
     ]
    }
   ],
   "source": [
    "with tf.variable_scope(\"deCnn\"):\n",
    "    inputDim, outputDim = (128,128), (8,8)\n",
    "    x = tf.placeholder(tf.float32,shape=[None,inputDim[0],inputDim[0],1])\n",
    "    y_ = tf.placeholder(tf.float32,shape=[None,outputDim[0],outputDim[0],1])\n",
    "\n",
    "    convolutionLayers = []\n",
    "    nConvolutions = 5\n",
    "    nFeatsOut = 16\n",
    "    nFeatsInc = 8\n",
    "    for i in xrange(nConvolutions):\n",
    "        if i ==0:\n",
    "            nFeatsIn = 1\n",
    "        elif i < nConvolutions - 1:\n",
    "            nFeatsOut += nFeatsInc\n",
    "        elif i == nConvolutions-1:\n",
    "            nFeatsOut = 1\n",
    "\n",
    "        W = weights([3,3,nFeatsIn,nFeatsOut])\n",
    "        b = bias([nFeatsOut])\n",
    "        convolutionLayers.append([W,b]) \n",
    "        nFeatsIn = nFeatsOut\n",
    "        \n",
    "    h1 = conv2d(x,convolutionLayers[0][0]) + convolutionLayers[0][1]\n",
    "    h1_bn = tf.nn.relu(layers.batch_norm(h1))\n",
    "    h1p = mp2(h1_bn)\n",
    "    \n",
    "    h2 = conv2d(h1p,convolutionLayers[1][0]) + convolutionLayers[1][1]\n",
    "    h2_bn = tf.nn.relu(layers.batch_norm(h2))\n",
    "    h2p = mp2(h2_bn)\n",
    "    \n",
    "    h3 = conv2d(h2p,convolutionLayers[2][0]) + convolutionLayers[2][1]\n",
    "    h3_bn = tf.nn.relu(layers.batch_norm(h3))\n",
    "    h3p = mp2(h3_bn)\n",
    "    \n",
    "    h4 = tf.nn.relu(conv2d(h3p,convolutionLayers[3][0]) + convolutionLayers[3][1])\n",
    "    h4_bn = tf.nn.relu(layers.batch_norm(h4))\n",
    "    h4p = mp2(h4_bn)\n",
    "    yPred = tf.nn.sigmoid(conv2d(h4p,convolutionLayers[4][0]) + convolutionLayers[4][1])\n",
    "\n",
    "print(x.get_shape())\n",
    "for i in xrange(len(convolutionLayers)):\n",
    "    print(convolutionLayers[i][0].get_shape())"
   ]
  },
  {
   "cell_type": "code",
   "execution_count": null,
   "metadata": {
    "collapsed": false,
    "scrolled": false
   },
   "outputs": [
    {
     "name": "stdout",
     "output_type": "stream",
     "text": [
      "5635 train paths and 5508 test paths\n",
      "Train set split into 4508 train CV paths and 1127 test CV paths\n",
      "Augmenting\n",
      "Training paths length =  4508\n",
      "Seen 2500 examples\n"
     ]
    },
    {
     "data": {
      "image/png": "[encoded data removed]",
      "text/plain": [
       "<matplotlib.figure.Figure at 0x7f792f7deb10>"
      ]
     },
     "metadata": {},
     "output_type": "display_data"
    },
    {
     "name": "stdout",
     "output_type": "stream",
     "text": [
      "(0, 0.16136377)\n",
      "Augmenting\n",
      "Training paths length =  4508\n",
      "Seen 2500 examples\n"
     ]
    },
    {
     "data": {
      "image/png": "[encoded data removed]",
      "text/plain": [
       "<matplotlib.figure.Figure at 0x7f792cfb1910>"
      ]
     },
     "metadata": {},
     "output_type": "display_data"
    },
    {
     "name": "stdout",
     "output_type": "stream",
     "text": [
      "(1, 0.15063277)\n",
      "Augmenting\n",
      "Training paths length =  4508\n",
      "Seen 2500 examples\n"
     ]
    },
    {
     "data": {
      "image/png": "[encoded data removed]",
      "text/plain": [
       "<matplotlib.figure.Figure at 0x7f78c8075b90>"
      ]
     },
     "metadata": {},
     "output_type": "display_data"
    },
    {
     "name": "stdout",
     "output_type": "stream",
     "text": [
      "(2, 0.1285653)\n",
      "Augmenting\n",
      "Training paths length =  4508\n",
      "Seen 2500 examples\n"
     ]
    },
    {
     "data": {
      "image/png": "[encoded data removed]",
      "text/plain": [
       "<matplotlib.figure.Figure at 0x7f78b4184050>"
      ]
     },
     "metadata": {},
     "output_type": "display_data"
    },
    {
     "name": "stdout",
     "output_type": "stream",
     "text": [
      "(3, 0.1163342)\n",
      "Augmenting\n",
      "Training paths length =  4508\n",
      "Seen 2500 examples\n"
     ]
    },
    {
     "data": {
      "image/png": "[encoded data removed]",
      "text/plain": [
       "<matplotlib.figure.Figure at 0x7f78841f0d50>"
      ]
     },
     "metadata": {},
     "output_type": "display_data"
    },
    {
     "name": "stdout",
     "output_type": "stream",
     "text": [
      "(4, 0.11164011)\n",
      "Augmenting\n",
      "Training paths length =  4508\n",
      "Seen 2500 examples\n"
     ]
    },
    {
     "data": {
      "image/png": "[encoded data removed]",
      "text/plain": [
       "<matplotlib.figure.Figure at 0x7f78b4155d90>"
      ]
     },
     "metadata": {},
     "output_type": "display_data"
    },
    {
     "name": "stdout",
     "output_type": "stream",
     "text": [
      "(5, 0.10681528)\n",
      "Augmenting\n",
      "Training paths length =  4508\n"
     ]
    }
   ],
   "source": [
    "if __name__ == \"__main__\":\n",
    "\n",
    "    batchSize = 5\n",
    "    \n",
    "    learning_rate = tf.placeholder(tf.float32,shape=[])\n",
    "    mse = tf.reduce_mean(tf.reduce_sum(tf.square(yPred - y_),(1,2,3))/batchSize)\n",
    "    opt = tf.train.GradientDescentOptimizer(learning_rate = learning_rate)\n",
    "    opt_operation = opt.minimize(mse)\n",
    "    \n",
    "  \n",
    "    dataGen = dataGenerator(cvSplit = 0.8, batchSize=batchSize,inputDim=inputDim,outputDim=outputDim)\n",
    "    \n",
    "    epochs = 10\n",
    "    \n",
    "    with tf.Session() as sess:\n",
    "        with tf.variable_scope(\"deCnn\"):\n",
    "            tf.initialize_all_variables().run()\n",
    "            \n",
    "            trainEpochLosses = []\n",
    "            testEpochLosses = []\n",
    "            for epoch in xrange(epochs):\n",
    "                i = 0\n",
    "                trainGen = dataGen.gen(train=1)\n",
    "                testGen = dataGen.gen(train=0)\n",
    "                trainEpochLoss = []\n",
    "                testEpochLoss = []\n",
    "                finished = 0\n",
    "                while finished == 0:\n",
    "                    batchX, batchY, finished = trainGen.next()\n",
    "                    _,yPred_,loss = sess.run([opt_operation,yPred,mse],feed_dict={x:batchX,y_:batchY,learning_rate:0.01})\n",
    "                    trainEpochLoss.append(loss)\n",
    "                    i += 1\n",
    "                    if i % 500 == 0:\n",
    "                        print(\"Seen %d examples\" % (i*batchSize))\n",
    "                        preds = np.vstack(tuple([row for row in yPred_.squeeze()]))\n",
    "                        truth = np.vstack(tuple([row for row in batchY.squeeze()]))\n",
    "                        predsTruth = np.hstack((preds,truth))\n",
    "                        plt.imshow(predsTruth,cmap=cm.gray)\n",
    "                        plt.show()\n",
    "                        \n",
    "                trainEpochLossMu = np.array(trainEpochLoss).mean()\n",
    "                def ee():\n",
    "                    \n",
    "                    trainEpochLosses.append(trainEpochLossMu)\n",
    "\n",
    "                    finished = 0\n",
    "                    while finished == 0:\n",
    "                        batchX, batchY, finished = testGen.next()\n",
    "                        loss = mse.eval(feed_dict={x:batchX,y_:batchY})\n",
    "                        testEpochLoss.append(loss)\n",
    "                    testEpochLossMu = np.array(testEpochLoss).mean()\n",
    "                    testEpochLosses.append(testEpochLossMu)\n",
    "\n",
    "                    plt.plot(np.arange(epoch+1),trainEpochLosses,np.arange(epoch+1),testEpochLosses)\n",
    "                    plt.show()\n",
    "\n",
    "                    print(\"Finished epoch %d. Mean loss train/test = {%f,%f}.\" % (epoch,trainEpochLossMu,testEpochLossMu))                \n",
    "                print(epoch,trainEpochLossMu)\n",
    "    sess.close()\n",
    "            "
   ]
  },
  {
   "cell_type": "code",
   "execution_count": null,
   "metadata": {
    "collapsed": true
   },
   "outputs": [],
   "source": []
  }
 ],
 "metadata": {
  "kernelspec": {
   "display_name": "Python 2",
   "language": "python",
   "name": "python2"
  },
  "language_info": {
   "codemirror_mode": {
    "name": "ipython",
    "version": 2
   },
   "file_extension": ".py",
   "mimetype": "text/x-python",
   "name": "python",
   "nbconvert_exporter": "python",
   "pygments_lexer": "ipython2",
   "version": "2.7.6"
  }
 },
 "nbformat": 4,
 "nbformat_minor": 0
}
